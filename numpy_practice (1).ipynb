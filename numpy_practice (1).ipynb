{
 "cells": [
  {
   "cell_type": "code",
   "execution_count": null,
   "id": "34287236-291b-4b04-ad3f-864f9397e5b6",
   "metadata": {},
   "outputs": [
    {
     "name": "stdout",
     "output_type": "stream",
     "text": [
      "hello\n"
     ]
    }
   ],
   "source": [
    "print(\"hello\")"
   ]
  },
  {
   "cell_type": "markdown",
   "id": "4807133a",
   "metadata": {},
   "source": []
  },
  {
   "cell_type": "code",
   "execution_count": null,
   "id": "51a29c82-c001-4e52-a967-b821d9b57e9c",
   "metadata": {},
   "outputs": [],
   "source": [
    "# Importing numpy\n",
    "\n",
    "import numpy as np"
   ]
  },
  {
   "cell_type": "code",
   "execution_count": null,
   "id": "3f9e4929-87eb-432c-a9e6-095a45653a57",
   "metadata": {},
   "outputs": [
    {
     "name": "stdout",
     "output_type": "stream",
     "text": [
      "[20, 30, 40, 40]\n"
     ]
    }
   ],
   "source": [
    "list = [10,20,30,40]\n",
    "print(list)"
   ]
  },
  {
   "cell_type": "code",
   "execution_count": null,
   "id": "51e37553-a02b-4ecd-a798-b60cdb2cce17",
   "metadata": {},
   "outputs": [
    {
     "name": "stdout",
     "output_type": "stream",
     "text": [
      "[20 30 40 50]\n"
     ]
    }
   ],
   "source": [
    "arr = np.array([20, 30, 40, 50])\n",
    "print(arr)"
   ]
  },
  {
   "cell_type": "code",
   "execution_count": null,
   "id": "9c5cfa63-4a89-4868-9b65-67847b82c712",
   "metadata": {},
   "outputs": [
    {
     "name": "stdout",
     "output_type": "stream",
     "text": [
      "1.26.4\n"
     ]
    }
   ],
   "source": [
    "# cheaking version of numpy\n",
    "\n",
    "print(np.__version__)"
   ]
  },
  {
   "cell_type": "code",
   "execution_count": null,
   "id": "571e8b5a-c6a8-4e0c-bff7-fb009d0b3b06",
   "metadata": {},
   "outputs": [
    {
     "name": "stdout",
     "output_type": "stream",
     "text": [
      "[1 2 3 4 5]\n",
      "<class 'numpy.ndarray'>\n"
     ]
    }
   ],
   "source": [
    "arr1 = np.array([1,2,3,4,5])\n",
    "print(arr1)\n",
    "print(type(arr1))"
   ]
  },
  {
   "cell_type": "code",
   "execution_count": null,
   "id": "367c0b46-a15b-43b7-a853-3acb5e5382ce",
   "metadata": {},
   "outputs": [
    {
     "name": "stdout",
     "output_type": "stream",
     "text": [
      "[1 2 3 4 5]\n",
      "<class 'numpy.ndarray'>\n"
     ]
    }
   ],
   "source": [
    "arr2 = np.array((1,2,3,4,5))\n",
    "print(arr2)\n",
    "print(type(arr2))"
   ]
  },
  {
   "cell_type": "code",
   "execution_count": null,
   "id": "93aa563b-99e4-44cf-aa90-424464443424",
   "metadata": {},
   "outputs": [
    {
     "name": "stdout",
     "output_type": "stream",
     "text": [
      "[34]\n"
     ]
    }
   ],
   "source": [
    "# 0 darray\n",
    "\n",
    "arr3 = np.array([34])\n",
    "print(arr3)"
   ]
  },
  {
   "cell_type": "code",
   "execution_count": null,
   "id": "7f11d6a6-f59e-4b16-93d7-56908034c8d1",
   "metadata": {},
   "outputs": [
    {
     "name": "stdout",
     "output_type": "stream",
     "text": [
      "[34 45 56]\n"
     ]
    }
   ],
   "source": [
    "# 1 darray\n",
    "\n",
    "arr4 = np.array([34,45,56])\n",
    "print(arr4)"
   ]
  },
  {
   "cell_type": "code",
   "execution_count": null,
   "id": "724b8b95-b14c-47b6-8e60-207ba8dd763f",
   "metadata": {},
   "outputs": [
    {
     "name": "stdout",
     "output_type": "stream",
     "text": [
      "[[34 45 56]\n",
      " [57 78 79]]\n"
     ]
    }
   ],
   "source": [
    "# 2 darray\n",
    "\n",
    "arr5 = np.array([[34,45,56], [57,78,79]])\n",
    "print(arr5)"
   ]
  },
  {
   "cell_type": "code",
   "execution_count": null,
   "id": "c1eafb55-bf5b-49ce-b0b6-3622c8e64f40",
   "metadata": {},
   "outputs": [
    {
     "name": "stdout",
     "output_type": "stream",
     "text": [
      "[[[1 2 3]\n",
      "  [4 5 6]]\n",
      "\n",
      " [[1 2 3]\n",
      "  [4 5 6]]]\n"
     ]
    }
   ],
   "source": [
    "# 3darray\n",
    "\n",
    "arr6 = np.array([[[1, 2, 3], [4, 5, 6]], [[1, 2, 3], [4, 5, 6]]])\n",
    "print(arr6)"
   ]
  },
  {
   "cell_type": "code",
   "execution_count": null,
   "id": "079cc69a-fa34-486e-b40c-cb5db85eaa60",
   "metadata": {},
   "outputs": [
    {
     "name": "stdout",
     "output_type": "stream",
     "text": [
      "3\n"
     ]
    }
   ],
   "source": [
    "# To cheak dimensionality\n",
    "\n",
    "print(arr6.ndim)"
   ]
  },
  {
   "cell_type": "code",
   "execution_count": null,
   "id": "18103023-1224-4275-9695-87cec2fe47b8",
   "metadata": {},
   "outputs": [
    {
     "name": "stdout",
     "output_type": "stream",
     "text": [
      "50\n"
     ]
    }
   ],
   "source": [
    "# Accessing elements 1D\n",
    "\n",
    "arr = np.array([20,30,40,50,60])\n",
    "print(arr[3])"
   ]
  },
  {
   "cell_type": "code",
   "execution_count": null,
   "id": "50ae6119-1379-4bca-8dcd-6e6c493f7d1a",
   "metadata": {},
   "outputs": [
    {
     "name": "stdout",
     "output_type": "stream",
     "text": [
      "2nd element on 1st row:  2\n"
     ]
    }
   ],
   "source": [
    "#Accessing 2D array elements\n",
    "\n",
    "arr = np.array([[1,2,3,4,5], \n",
    "                [6,7,8,9,10]])\n",
    "\n",
    "print('2nd element on 1st row: ', arr[0, 1])"
   ]
  },
  {
   "cell_type": "code",
   "execution_count": null,
   "id": "a91736a9-56fa-4e38-beba-627e4785f97e",
   "metadata": {},
   "outputs": [
    {
     "name": "stdout",
     "output_type": "stream",
     "text": [
      "2nd element on 1st row:  5\n"
     ]
    }
   ],
   "source": [
    "#Accessing 2D array elements with -ve indexing\n",
    "\n",
    "arr = np.array([[1,2,3,4,5], \n",
    "                [6,7,8,9,10]])\n",
    "\n",
    "print('2nd element on 1st row: ', arr[0, -1])"
   ]
  },
  {
   "cell_type": "code",
   "execution_count": null,
   "id": "996a0921-06f2-4c51-8656-490b6eb2eee9",
   "metadata": {},
   "outputs": [
    {
     "name": "stdout",
     "output_type": "stream",
     "text": [
      "[ 2  4  6  8 10]\n"
     ]
    }
   ],
   "source": [
    "# Accessing elements using slicing\n",
    "\n",
    "arr = np.array([1,2,3,4,5,6,7,8,9,10])\n",
    "print(arr[1:11:2])"
   ]
  },
  {
   "cell_type": "code",
   "execution_count": null,
   "id": "f43f9e6f-043c-414e-be9c-d594d51df81a",
   "metadata": {},
   "outputs": [
    {
     "name": "stdout",
     "output_type": "stream",
     "text": [
      "[8 9]\n",
      "[6 8]\n"
     ]
    }
   ],
   "source": [
    "# Accessing elements using -ve slicing\n",
    "\n",
    "arr = np.array([1,2,3,4,5,6,7,8,9,10])\n",
    "print(arr[-3:-1])\n",
    "print(arr[5:9:2])"
   ]
  },
  {
   "cell_type": "code",
   "execution_count": null,
   "id": "7ceb70bc-a100-48a6-8cc6-7ac6fad2dddd",
   "metadata": {},
   "outputs": [
    {
     "name": "stdout",
     "output_type": "stream",
     "text": [
      "float64\n"
     ]
    }
   ],
   "source": [
    "# cheaking datatype\n",
    "\n",
    "arr = np.array([1,2,3.0,4.6,5.8,6,7,8])\n",
    "print(arr.dtype)"
   ]
  },
  {
   "cell_type": "code",
   "execution_count": null,
   "id": "d65ddb3f-6ff7-4882-8b13-5dd07e065f65",
   "metadata": {},
   "outputs": [
    {
     "name": "stdout",
     "output_type": "stream",
     "text": [
      "float64\n",
      "[1 2 3 4 5 6 7 8]\n"
     ]
    }
   ],
   "source": [
    "# Conversion of datatype\n",
    "\n",
    "arr = np.array([1,2,3.0,4.6,5.8,6,7,8])\n",
    "print(arr.dtype)\n",
    "print(arr.astype(int))"
   ]
  },
  {
   "cell_type": "code",
   "execution_count": null,
   "id": "b6043a45-c3e6-46a1-9fe3-db1bb62a0919",
   "metadata": {},
   "outputs": [
    {
     "name": "stdout",
     "output_type": "stream",
     "text": [
      "(2, 4)\n",
      "8\n"
     ]
    }
   ],
   "source": [
    "# Cheaking shape of an array ((a,b) where a shows rows and b represents elements in column)\n",
    "\n",
    "arr = np.array([[1, 2, 3, 4],\n",
    "                [5, 6, 7, 8]]) \n",
    "print(arr.shape) \n",
    "\n",
    "print(arr.size)"
   ]
  },
  {
   "cell_type": "code",
   "execution_count": null,
   "id": "30d07111-c010-4818-85be-05d1186b5374",
   "metadata": {},
   "outputs": [
    {
     "name": "stdout",
     "output_type": "stream",
     "text": [
      "[[ 1  2  3]\n",
      " [ 4  5  6]\n",
      " [ 7  8  9]\n",
      " [10 11 12]]\n"
     ]
    }
   ],
   "source": [
    "# Reshaping array\n",
    "\n",
    "arr = np.array([1, 2, 3, 4, 5, 6, 7, 8, 9, 10, 11, 12]) \n",
    "newarr = arr.reshape(4, 3) \n",
    "print(newarr) "
   ]
  },
  {
   "cell_type": "code",
   "execution_count": null,
   "id": "87e61839-5d6f-4209-9f0b-d49a0ae66a33",
   "metadata": {},
   "outputs": [
    {
     "name": "stdout",
     "output_type": "stream",
     "text": [
      "1\n",
      "2\n",
      "3\n"
     ]
    }
   ],
   "source": [
    "# Iterating elements\n",
    "\n",
    "arr = np.array([1, 2, 3]) \n",
    "for x in arr: \n",
    "     print(x) "
   ]
  },
  {
   "cell_type": "code",
   "execution_count": null,
   "id": "67794359-62b7-4d95-bcce-663c33224378",
   "metadata": {},
   "outputs": [
    {
     "name": "stdout",
     "output_type": "stream",
     "text": [
      "[1 2 3 4 5 6]\n"
     ]
    }
   ],
   "source": [
    "# Joining array\n",
    "\n",
    "arr1 = np.array([1,2,3])\n",
    "arr2 = np.array([4,5,6])\n",
    "newarr = np.concatenate((arr1,arr2))\n",
    "print(newarr)"
   ]
  },
  {
   "cell_type": "code",
   "execution_count": null,
   "id": "d591ac5a-3146-4fb7-820a-01618d7e0938",
   "metadata": {},
   "outputs": [
    {
     "name": "stdout",
     "output_type": "stream",
     "text": [
      "[array([1, 2]), array([3, 4]), array([5])]\n"
     ]
    }
   ],
   "source": [
    "# Splitting array\n",
    "\n",
    "arr = np.array([1, 2, 3, 4, 5, 6]) \n",
    "newarr = np.array_split(arr, 3) \n",
    "print(newarr) "
   ]
  },
  {
   "cell_type": "code",
   "execution_count": null,
   "id": "17ac77e7-95a3-4f29-a995-82d046349b8b",
   "metadata": {},
   "outputs": [
    {
     "name": "stdout",
     "output_type": "stream",
     "text": [
      "(array([7], dtype=int64),)\n"
     ]
    }
   ],
   "source": [
    "# Searching array(It returns with index)\n",
    "\n",
    "arr = np.array([1,2,3,4,5,6,7,8])\n",
    "x=np.where(arr==8)\n",
    "print(x)"
   ]
  },
  {
   "cell_type": "code",
   "execution_count": null,
   "id": "331e3418-e78d-4617-9d74-e02793068e4d",
   "metadata": {},
   "outputs": [
    {
     "name": "stdout",
     "output_type": "stream",
     "text": [
      "[0 2 2 3 6 7 9]\n",
      "[9 7 7 3 1 0]\n"
     ]
    }
   ],
   "source": [
    "# Sorting array\n",
    "\n",
    "arr1 = np.array([3,6,2,7,9,2,0])         # for ascending order\n",
    "print(np.sort(arr1))\n",
    "\n",
    "arr2 = np.array([3,7,1,0,9,7])          # for Descending order\n",
    "print(np.sort(arr2)[::-1])"
   ]
  },
  {
   "cell_type": "code",
   "execution_count": null,
   "id": "ef18581b-6dab-49ed-bddb-5510ffa912e1",
   "metadata": {},
   "outputs": [
    {
     "name": "stdout",
     "output_type": "stream",
     "text": [
      "[41 43]\n"
     ]
    }
   ],
   "source": [
    "# Filtering array\n",
    "\n",
    "arr = np.array([41, 42, 43, 44]) \n",
    "x = [True, False, True, False] \n",
    "newarr = arr[x] \n",
    "print(newarr) "
   ]
  },
  {
   "cell_type": "code",
   "execution_count": null,
   "id": "001cef1e-2fa0-47b8-8c0c-dba76be1f337",
   "metadata": {},
   "outputs": [
    {
     "name": "stdout",
     "output_type": "stream",
     "text": [
      "[False, False, True, True]\n",
      "[43 44]\n"
     ]
    }
   ],
   "source": [
    "arr = np.array([41, 42, 43, 44])                                 # append = adding elements in new array at the end\n",
    "\n",
    "# Create an empty list                                           # Insert = adding elements at specific index of an array\n",
    "filter_arr = [] \n",
    "\n",
    "# go through each element in arr \n",
    "for element in arr: \n",
    "# if the element is higher than 42, set the value to True, otherwise False: \n",
    "     if element > 42: \n",
    "          filter_arr.append(True) \n",
    "     else: \n",
    "          filter_arr.append(False)\n",
    "\n",
    "newarr = arr[filter_arr] \n",
    "\n",
    "print(filter_arr)\n",
    "\n",
    "print(newarr) "
   ]
  },
  {
   "cell_type": "code",
   "execution_count": null,
   "id": "395c77cd-f86d-42bb-9881-40fe70e1ec4a",
   "metadata": {},
   "outputs": [
    {
     "name": "stdout",
     "output_type": "stream",
     "text": [
      "[20 30 40 50 60]\n",
      "[20 30 90 80 40]\n",
      "[20 40]\n"
     ]
    }
   ],
   "source": [
    "# Adding and Removing elements\n",
    "\n",
    "arr = np.array([20,30,40])\n",
    "print(np.append(arr,[50,60]))\n",
    "\n",
    "print(np.insert(arr,2,[90,80]))         # (arr,index,element)\n",
    "\n",
    "print(np.delete(arr,[1]))"
   ]
  },
  {
   "cell_type": "code",
   "execution_count": null,
   "id": "aecae6e0-737a-40c9-9540-f4e8068cfa1b",
   "metadata": {},
   "outputs": [
    {
     "name": "stdout",
     "output_type": "stream",
     "text": [
      "140\n",
      "20\n",
      "50\n",
      "[ 20  50  90 140]\n"
     ]
    }
   ],
   "source": [
    "# Aggregating functions\n",
    "\n",
    "a = np.array([20,30,40,50])\n",
    "\n",
    "# sum of all elements\n",
    "print(np.sum(a))\n",
    "\n",
    "# Minimum\n",
    "print(np.min(a))\n",
    "\n",
    "# maximum\n",
    "print(np.max(a))\n",
    "\n",
    "# Cumulative sum\n",
    "print(np.cumsum(a))"
   ]
  },
  {
   "cell_type": "code",
   "execution_count": null,
   "id": "a62641e3-7d68-4185-8832-0f6781330296",
   "metadata": {},
   "outputs": [
    {
     "name": "stdout",
     "output_type": "stream",
     "text": [
      "37.0\n",
      "30.0\n",
      "20\n"
     ]
    }
   ],
   "source": [
    "# Statistical Functions\n",
    "\n",
    "import statistics as stats\n",
    "\n",
    "food_price = [20,30,40,50,60,70,20,30,20,30]\n",
    "a = np.array(food_price)\n",
    "\n",
    "# Mean \n",
    "print(np.mean(a))\n",
    "\n",
    "# Median \n",
    "print(np.median(a))\n",
    "\n",
    "# Mode\n",
    "print(stats.mode(a))"
   ]
  },
  {
   "cell_type": "code",
   "execution_count": null,
   "id": "bc9939f1-a35a-4bd5-b70d-6161cf8fdabc",
   "metadata": {},
   "outputs": [],
   "source": []
  }
 ],
 "metadata": {
  "kernelspec": {
   "display_name": "Python [conda env:base] *",
   "language": "python",
   "name": "conda-base-py"
  },
  "language_info": {
   "codemirror_mode": {
    "name": "ipython",
    "version": 3
   },
   "file_extension": ".py",
   "mimetype": "text/x-python",
   "name": "python",
   "nbconvert_exporter": "python",
   "pygments_lexer": "ipython3",
   "version": "3.12.7"
  }
 },
 "nbformat": 4,
 "nbformat_minor": 5
}
